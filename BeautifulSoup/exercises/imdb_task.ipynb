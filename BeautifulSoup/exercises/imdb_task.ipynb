{
 "cells": [
  {
   "cell_type": "markdown",
   "metadata": {
    "colab_type": "text",
    "id": "JpS8k_tshonl"
   },
   "source": [
    "## Web scrapping de IMDB"
   ]
  },
  {
   "cell_type": "code",
   "execution_count": 18,
   "metadata": {
    "colab": {},
    "colab_type": "code",
    "collapsed": true,
    "id": "mq61vOa_honl",
    "jupyter": {
     "outputs_hidden": true
    },
    "outputId": "51d09478-3b42-4620-c0dc-9349c9ad1327",
    "tags": []
   },
   "outputs": [
    {
     "data": {
      "text/html": [
       "<div>\n",
       "<style scoped>\n",
       "    .dataframe tbody tr th:only-of-type {\n",
       "        vertical-align: middle;\n",
       "    }\n",
       "\n",
       "    .dataframe tbody tr th {\n",
       "        vertical-align: top;\n",
       "    }\n",
       "\n",
       "    .dataframe thead th {\n",
       "        text-align: right;\n",
       "    }\n",
       "</style>\n",
       "<table border=\"1\" class=\"dataframe\">\n",
       "  <thead>\n",
       "    <tr style=\"text-align: right;\">\n",
       "      <th></th>\n",
       "      <th>movie_title</th>\n",
       "      <th>year</th>\n",
       "      <th>place</th>\n",
       "      <th>star_cast</th>\n",
       "      <th>rating</th>\n",
       "      <th>vote</th>\n",
       "      <th>link</th>\n",
       "    </tr>\n",
       "  </thead>\n",
       "  <tbody>\n",
       "    <tr>\n",
       "      <th>0</th>\n",
       "      <td>Cadena perpetua</td>\n",
       "      <td>1994</td>\n",
       "      <td>1</td>\n",
       "      <td>Frank Darabont (dir.), Tim Robbins, Morgan Fre...</td>\n",
       "      <td>9.220086937930727</td>\n",
       "      <td>None</td>\n",
       "      <td>/title/tt0111161/</td>\n",
       "    </tr>\n",
       "    <tr>\n",
       "      <th>1</th>\n",
       "      <td>El padrino</td>\n",
       "      <td>1972</td>\n",
       "      <td>2</td>\n",
       "      <td>Francis Ford Coppola (dir.), Marlon Brando, Al...</td>\n",
       "      <td>9.147355884254592</td>\n",
       "      <td>None</td>\n",
       "      <td>/title/tt0068646/</td>\n",
       "    </tr>\n",
       "    <tr>\n",
       "      <th>2</th>\n",
       "      <td>El padrino: Parte II</td>\n",
       "      <td>1974</td>\n",
       "      <td>3</td>\n",
       "      <td>Francis Ford Coppola (dir.), Al Pacino, Robert...</td>\n",
       "      <td>8.980081220514458</td>\n",
       "      <td>None</td>\n",
       "      <td>/title/tt0071562/</td>\n",
       "    </tr>\n",
       "    <tr>\n",
       "      <th>3</th>\n",
       "      <td>El caballero oscuro</td>\n",
       "      <td>2008</td>\n",
       "      <td>4</td>\n",
       "      <td>Christopher Nolan (dir.), Christian Bale, Heat...</td>\n",
       "      <td>8.970803734877</td>\n",
       "      <td>None</td>\n",
       "      <td>/title/tt0468569/</td>\n",
       "    </tr>\n",
       "    <tr>\n",
       "      <th>4</th>\n",
       "      <td>12 hombres sin piedad</td>\n",
       "      <td>1957</td>\n",
       "      <td>5</td>\n",
       "      <td>Sidney Lumet (dir.), Henry Fonda, Lee J. Cobb</td>\n",
       "      <td>8.936241387241546</td>\n",
       "      <td>None</td>\n",
       "      <td>/title/tt0050083/</td>\n",
       "    </tr>\n",
       "    <tr>\n",
       "      <th>...</th>\n",
       "      <td>...</td>\n",
       "      <td>...</td>\n",
       "      <td>...</td>\n",
       "      <td>...</td>\n",
       "      <td>...</td>\n",
       "      <td>...</td>\n",
       "      <td>...</td>\n",
       "    </tr>\n",
       "    <tr>\n",
       "      <th>245</th>\n",
       "      <td>Fanny y Alexander</td>\n",
       "      <td>1982</td>\n",
       "      <td>246</td>\n",
       "      <td>Ingmar Bergman (dir.), Bertil Guve, Pernilla A...</td>\n",
       "      <td>8.021987108222715</td>\n",
       "      <td>None</td>\n",
       "      <td>/title/tt0083922/</td>\n",
       "    </tr>\n",
       "    <tr>\n",
       "      <th>246</th>\n",
       "      <td>Neon Genesis Evangelion: The End of Evangelion</td>\n",
       "      <td>1997</td>\n",
       "      <td>247</td>\n",
       "      <td>Hideaki Anno (dir.), Megumi Ogata, Megumi Haya...</td>\n",
       "      <td>8.021553071161161</td>\n",
       "      <td>None</td>\n",
       "      <td>/title/tt0169858/</td>\n",
       "    </tr>\n",
       "    <tr>\n",
       "      <th>247</th>\n",
       "      <td>Drishyam</td>\n",
       "      <td>2013</td>\n",
       "      <td>248</td>\n",
       "      <td>Jeethu Joseph (dir.), Mohanlal, Meena</td>\n",
       "      <td>8.021135627267235</td>\n",
       "      <td>None</td>\n",
       "      <td>/title/tt3417422/</td>\n",
       "    </tr>\n",
       "    <tr>\n",
       "      <th>248</th>\n",
       "      <td>Soul</td>\n",
       "      <td>2020</td>\n",
       "      <td>249</td>\n",
       "      <td>Pete Docter (dir.), Jamie Foxx, Tina Fey</td>\n",
       "      <td>8.021023506607449</td>\n",
       "      <td>None</td>\n",
       "      <td>/title/tt2948372/</td>\n",
       "    </tr>\n",
       "    <tr>\n",
       "      <th>249</th>\n",
       "      <td>Amanecer</td>\n",
       "      <td>1927</td>\n",
       "      <td>250</td>\n",
       "      <td>F.W. Murnau (dir.), George O'Brien, Janet Gaynor</td>\n",
       "      <td>8.019031572112112</td>\n",
       "      <td>None</td>\n",
       "      <td>/title/tt0018455/</td>\n",
       "    </tr>\n",
       "  </tbody>\n",
       "</table>\n",
       "<p>250 rows × 7 columns</p>\n",
       "</div>"
      ],
      "text/plain": [
       "                                        movie_title  year place  \\\n",
       "0                                   Cadena perpetua  1994     1   \n",
       "1                                        El padrino  1972     2   \n",
       "2                              El padrino: Parte II  1974     3   \n",
       "3                               El caballero oscuro  2008     4   \n",
       "4                             12 hombres sin piedad  1957     5   \n",
       "..                                              ...   ...   ...   \n",
       "245                               Fanny y Alexander  1982   246   \n",
       "246  Neon Genesis Evangelion: The End of Evangelion  1997   247   \n",
       "247                                        Drishyam  2013   248   \n",
       "248                                            Soul  2020   249   \n",
       "249                                        Amanecer  1927   250   \n",
       "\n",
       "                                             star_cast             rating  \\\n",
       "0    Frank Darabont (dir.), Tim Robbins, Morgan Fre...  9.220086937930727   \n",
       "1    Francis Ford Coppola (dir.), Marlon Brando, Al...  9.147355884254592   \n",
       "2    Francis Ford Coppola (dir.), Al Pacino, Robert...  8.980081220514458   \n",
       "3    Christopher Nolan (dir.), Christian Bale, Heat...     8.970803734877   \n",
       "4        Sidney Lumet (dir.), Henry Fonda, Lee J. Cobb  8.936241387241546   \n",
       "..                                                 ...                ...   \n",
       "245  Ingmar Bergman (dir.), Bertil Guve, Pernilla A...  8.021987108222715   \n",
       "246  Hideaki Anno (dir.), Megumi Ogata, Megumi Haya...  8.021553071161161   \n",
       "247              Jeethu Joseph (dir.), Mohanlal, Meena  8.021135627267235   \n",
       "248           Pete Docter (dir.), Jamie Foxx, Tina Fey  8.021023506607449   \n",
       "249   F.W. Murnau (dir.), George O'Brien, Janet Gaynor  8.019031572112112   \n",
       "\n",
       "     vote               link  \n",
       "0    None  /title/tt0111161/  \n",
       "1    None  /title/tt0068646/  \n",
       "2    None  /title/tt0071562/  \n",
       "3    None  /title/tt0468569/  \n",
       "4    None  /title/tt0050083/  \n",
       "..    ...                ...  \n",
       "245  None  /title/tt0083922/  \n",
       "246  None  /title/tt0169858/  \n",
       "247  None  /title/tt3417422/  \n",
       "248  None  /title/tt2948372/  \n",
       "249  None  /title/tt0018455/  \n",
       "\n",
       "[250 rows x 7 columns]"
      ]
     },
     "execution_count": 18,
     "metadata": {},
     "output_type": "execute_result"
    }
   ],
   "source": [
    "from bs4 import BeautifulSoup\n",
    "import requests\n",
    "import re\n",
    "import pandas as pd\n",
    "\n",
    "# Download IMDB's Top 250 data\n",
    "url = 'http://www.imdb.com/chart/top'\n"
   ]
  },
  {
   "cell_type": "code",
   "execution_count": 1,
   "metadata": {},
   "outputs": [],
   "source": [
    "from bs4 import BeautifulSoup as bs\n",
    "import requests\n",
    "import re\n",
    "import pandas as pd\n",
    "\n",
    "# Download IMDB's Top 250 data\n",
    "url = 'http://www.imdb.com/chart/top'\n",
    "response = requests.get(url)\n",
    "soup = bs(response.text, 'lxml')\n",
    "\n"
   ]
  },
  {
   "cell_type": "code",
   "execution_count": 26,
   "metadata": {},
   "outputs": [
    {
     "data": {
      "text/plain": [
       "<td class=\"titleColumn\">\n",
       "      1.\n",
       "      <a href=\"/title/tt0111161/\" title=\"Frank Darabont (dir.), Tim Robbins, Morgan Freeman\">Cadena perpetua</a>\n",
       "<span class=\"secondaryInfo\">(1994)</span>\n",
       "</td>"
      ]
     },
     "execution_count": 26,
     "metadata": {},
     "output_type": "execute_result"
    }
   ],
   "source": [
    "movies = soup.select(\"td.titleColumn\") #('td', class_='titleColumn')\n",
    "movies[0]"
   ]
  },
  {
   "cell_type": "code",
   "execution_count": 17,
   "metadata": {},
   "outputs": [
    {
     "data": {
      "text/plain": [
       "'https://www.imdb.com/title/tt0111161/'"
      ]
     },
     "execution_count": 17,
     "metadata": {},
     "output_type": "execute_result"
    }
   ],
   "source": [
    "link = soup.select('td.titleColumn a')\n",
    "links =[a.attrs.get('href') for a in link] # [a['href'] for a in link]\n",
    "'https://www.imdb.com'+links[0]"
   ]
  },
  {
   "cell_type": "code",
   "execution_count": 13,
   "metadata": {},
   "outputs": [
    {
     "data": {
      "text/plain": [
       "'Frank Darabont (dir.), Tim Robbins, Morgan Freeman'"
      ]
     },
     "execution_count": 13,
     "metadata": {},
     "output_type": "execute_result"
    }
   ],
   "source": [
    "crew = soup.select('td.titleColumn a')\n",
    "crews = [a.attrs.get('title') for a in crew]\n",
    "crews[0]"
   ]
  },
  {
   "cell_type": "code",
   "execution_count": 19,
   "metadata": {},
   "outputs": [
    {
     "data": {
      "text/plain": [
       "'9.23985412378404'"
      ]
     },
     "execution_count": 19,
     "metadata": {},
     "output_type": "execute_result"
    }
   ],
   "source": [
    "rating = soup.select(\"td.posterColumn span[name=ir]\")\n",
    "ratings = [b.attrs.get('data-value') for b in rating]\n",
    "ratings[0]"
   ]
  },
  {
   "cell_type": "code",
   "execution_count": 22,
   "metadata": {},
   "outputs": [
    {
     "data": {
      "text/plain": [
       "NoneType"
      ]
     },
     "execution_count": 22,
     "metadata": {},
     "output_type": "execute_result"
    }
   ],
   "source": [
    "vote = soup.select(\"td.ratingColumn strong\")\n",
    "votes = [b.attrs.get('data-value') for b in vote]\n",
    "type(votes[0])"
   ]
  },
  {
   "cell_type": "code",
   "execution_count": 39,
   "metadata": {},
   "outputs": [
    {
     "data": {
      "text/plain": [
       "'\\n      1.\\n      Cadena perpetua\\n(1994)\\n'"
      ]
     },
     "execution_count": 39,
     "metadata": {},
     "output_type": "execute_result"
    }
   ],
   "source": [
    "movie_string = movies[0].get_text()\n",
    "movie_string"
   ]
  },
  {
   "cell_type": "code",
   "execution_count": 3,
   "metadata": {},
   "outputs": [
    {
     "data": {
      "text/html": [
       "<div>\n",
       "<style scoped>\n",
       "    .dataframe tbody tr th:only-of-type {\n",
       "        vertical-align: middle;\n",
       "    }\n",
       "\n",
       "    .dataframe tbody tr th {\n",
       "        vertical-align: top;\n",
       "    }\n",
       "\n",
       "    .dataframe thead th {\n",
       "        text-align: right;\n",
       "    }\n",
       "</style>\n",
       "<table border=\"1\" class=\"dataframe\">\n",
       "  <thead>\n",
       "    <tr style=\"text-align: right;\">\n",
       "      <th></th>\n",
       "      <th>movie_title</th>\n",
       "      <th>year</th>\n",
       "      <th>place</th>\n",
       "      <th>star_cast</th>\n",
       "      <th>rating</th>\n",
       "      <th>vote</th>\n",
       "      <th>link</th>\n",
       "    </tr>\n",
       "  </thead>\n",
       "  <tbody>\n",
       "    <tr>\n",
       "      <th>0</th>\n",
       "      <td>Cadena perpetua</td>\n",
       "      <td>1994</td>\n",
       "      <td>1</td>\n",
       "      <td>Frank Darabont (dir.), Tim Robbins, Morgan Fre...</td>\n",
       "      <td>9.239856258618092</td>\n",
       "      <td>None</td>\n",
       "      <td>/title/tt0111161/</td>\n",
       "    </tr>\n",
       "    <tr>\n",
       "      <th>1</th>\n",
       "      <td>El padrino</td>\n",
       "      <td>1972</td>\n",
       "      <td>2</td>\n",
       "      <td>Francis Ford Coppola (dir.), Marlon Brando, Al...</td>\n",
       "      <td>9.160737544918108</td>\n",
       "      <td>None</td>\n",
       "      <td>/title/tt0068646/</td>\n",
       "    </tr>\n",
       "    <tr>\n",
       "      <th>2</th>\n",
       "      <td>El caballero oscuro</td>\n",
       "      <td>2008</td>\n",
       "      <td>3</td>\n",
       "      <td>Christopher Nolan (dir.), Christian Bale, Heat...</td>\n",
       "      <td>8.992193010863582</td>\n",
       "      <td>None</td>\n",
       "      <td>/title/tt0468569/</td>\n",
       "    </tr>\n",
       "    <tr>\n",
       "      <th>3</th>\n",
       "      <td>El padrino: Parte II</td>\n",
       "      <td>1974</td>\n",
       "      <td>4</td>\n",
       "      <td>Francis Ford Coppola (dir.), Al Pacino, Robert...</td>\n",
       "      <td>8.9899820371598</td>\n",
       "      <td>None</td>\n",
       "      <td>/title/tt0071562/</td>\n",
       "    </tr>\n",
       "    <tr>\n",
       "      <th>4</th>\n",
       "      <td>12 hombres sin piedad</td>\n",
       "      <td>1957</td>\n",
       "      <td>5</td>\n",
       "      <td>Sidney Lumet (dir.), Henry Fonda, Lee J. Cobb</td>\n",
       "      <td>8.950328875940587</td>\n",
       "      <td>None</td>\n",
       "      <td>/title/tt0050083/</td>\n",
       "    </tr>\n",
       "    <tr>\n",
       "      <th>...</th>\n",
       "      <td>...</td>\n",
       "      <td>...</td>\n",
       "      <td>...</td>\n",
       "      <td>...</td>\n",
       "      <td>...</td>\n",
       "      <td>...</td>\n",
       "      <td>...</td>\n",
       "    </tr>\n",
       "    <tr>\n",
       "      <th>245</th>\n",
       "      <td>La bella y la bestia</td>\n",
       "      <td>1991</td>\n",
       "      <td>246</td>\n",
       "      <td>Gary Trousdale (dir.), Paige O'Hara, Robby Benson</td>\n",
       "      <td>8.017477946534775</td>\n",
       "      <td>None</td>\n",
       "      <td>/title/tt0101414/</td>\n",
       "    </tr>\n",
       "    <tr>\n",
       "      <th>246</th>\n",
       "      <td>Gandhi</td>\n",
       "      <td>1982</td>\n",
       "      <td>247</td>\n",
       "      <td>Richard Attenborough (dir.), Ben Kingsley, Joh...</td>\n",
       "      <td>8.015616729970288</td>\n",
       "      <td>None</td>\n",
       "      <td>/title/tt0083987/</td>\n",
       "    </tr>\n",
       "    <tr>\n",
       "      <th>247</th>\n",
       "      <td>Criadas y señoras</td>\n",
       "      <td>2011</td>\n",
       "      <td>248</td>\n",
       "      <td>Tate Taylor (dir.), Emma Stone, Viola Davis</td>\n",
       "      <td>8.01482280406514</td>\n",
       "      <td>None</td>\n",
       "      <td>/title/tt1454029/</td>\n",
       "    </tr>\n",
       "    <tr>\n",
       "      <th>248</th>\n",
       "      <td>La doncella</td>\n",
       "      <td>2016</td>\n",
       "      <td>249</td>\n",
       "      <td>Park Chan-wook (dir.), Kim Min-hee, Ha Jung-woo</td>\n",
       "      <td>8.012687350410939</td>\n",
       "      <td>None</td>\n",
       "      <td>/title/tt4016934/</td>\n",
       "    </tr>\n",
       "    <tr>\n",
       "      <th>249</th>\n",
       "      <td>Donnie Darko</td>\n",
       "      <td>2001</td>\n",
       "      <td>250</td>\n",
       "      <td>Richard Kelly (dir.), Jake Gyllenhaal, Jena Ma...</td>\n",
       "      <td>8.008990936981084</td>\n",
       "      <td>None</td>\n",
       "      <td>/title/tt0246578/</td>\n",
       "    </tr>\n",
       "  </tbody>\n",
       "</table>\n",
       "<p>250 rows × 7 columns</p>\n",
       "</div>"
      ],
      "text/plain": [
       "                movie_title  year place  \\\n",
       "0           Cadena perpetua  1994     1   \n",
       "1                El padrino  1972     2   \n",
       "2       El caballero oscuro  2008     3   \n",
       "3      El padrino: Parte II  1974     4   \n",
       "4     12 hombres sin piedad  1957     5   \n",
       "..                      ...   ...   ...   \n",
       "245    La bella y la bestia  1991   246   \n",
       "246                  Gandhi  1982   247   \n",
       "247       Criadas y señoras  2011   248   \n",
       "248             La doncella  2016   249   \n",
       "249            Donnie Darko  2001   250   \n",
       "\n",
       "                                             star_cast             rating  \\\n",
       "0    Frank Darabont (dir.), Tim Robbins, Morgan Fre...  9.239856258618092   \n",
       "1    Francis Ford Coppola (dir.), Marlon Brando, Al...  9.160737544918108   \n",
       "2    Christopher Nolan (dir.), Christian Bale, Heat...  8.992193010863582   \n",
       "3    Francis Ford Coppola (dir.), Al Pacino, Robert...    8.9899820371598   \n",
       "4        Sidney Lumet (dir.), Henry Fonda, Lee J. Cobb  8.950328875940587   \n",
       "..                                                 ...                ...   \n",
       "245  Gary Trousdale (dir.), Paige O'Hara, Robby Benson  8.017477946534775   \n",
       "246  Richard Attenborough (dir.), Ben Kingsley, Joh...  8.015616729970288   \n",
       "247        Tate Taylor (dir.), Emma Stone, Viola Davis   8.01482280406514   \n",
       "248    Park Chan-wook (dir.), Kim Min-hee, Ha Jung-woo  8.012687350410939   \n",
       "249  Richard Kelly (dir.), Jake Gyllenhaal, Jena Ma...  8.008990936981084   \n",
       "\n",
       "     vote               link  \n",
       "0    None  /title/tt0111161/  \n",
       "1    None  /title/tt0068646/  \n",
       "2    None  /title/tt0468569/  \n",
       "3    None  /title/tt0071562/  \n",
       "4    None  /title/tt0050083/  \n",
       "..    ...                ...  \n",
       "245  None  /title/tt0101414/  \n",
       "246  None  /title/tt0083987/  \n",
       "247  None  /title/tt1454029/  \n",
       "248  None  /title/tt4016934/  \n",
       "249  None  /title/tt0246578/  \n",
       "\n",
       "[250 rows x 7 columns]"
      ]
     },
     "execution_count": 3,
     "metadata": {},
     "output_type": "execute_result"
    }
   ],
   "source": [
    "from bs4 import BeautifulSoup as bs\n",
    "import requests\n",
    "import re\n",
    "import pandas as pd\n",
    "\n",
    "\n",
    "url = 'http://www.imdb.com/chart/top'\n",
    "response = requests.get(url)\n",
    "soup = bs(response.text, 'lxml')\n",
    "\n",
    "movies = soup.select(\"td.titleColumn\")\n",
    "link = soup.select('td.titleColumn a')\n",
    "links =[a.attrs.get('href') for a in link]\n",
    "crew = soup.select('td.titleColumn a')\n",
    "crews = [a.attrs.get('title') for a in crew]\n",
    "rating = soup.select(\"td.posterColumn span[name=ir]\")\n",
    "ratings = [b.attrs.get('data-value') for b in rating]\n",
    "vote = soup.select(\"td.ratingColumn strong\")\n",
    "votes = [b.attrs.get('data-value') for b in vote]\n",
    "\n",
    "\n",
    "\n",
    "imdb = []\n",
    "\n",
    "for index in range(0,len(movies)):\n",
    "    movie_string = movies[index].get_text()\n",
    "    movie = (' ').join(movie_string.split()).replace('.',',') # 100, cadena perpetua (1994)\n",
    "    movie_title = movie[len(str(index))+1:-7]\n",
    "    year = re.search('\\((.*?)\\)', movie_string).group(1)\n",
    "    place = movie[:len(str(index))-(len(movie))]\n",
    "\n",
    "    data = {\"movie_title\": movie_title,\n",
    "            \"year\": year,\n",
    "            \"place\": place,\n",
    "            \"star_cast\": crews[index],\n",
    "            \"rating\": ratings[index],\n",
    "            \"vote\": votes[index],\n",
    "            \"link\": links[index]}\n",
    "    \n",
    "    imdb.append(data)\n",
    "\n",
    "df = pd.DataFrame(imdb)\n",
    "df\n",
    "    \n",
    "    "
   ]
  }
 ],
 "metadata": {
  "colab": {
   "name": "1-DataAccess.ipynb",
   "provenance": []
  },
  "interpreter": {
   "hash": "7c77fdb427e7cbc9bc1367dd530fc2b36aacdbbde1ac83c85833b10dfa8b831c"
  },
  "kernelspec": {
   "display_name": "Python 3.7.4 64-bit",
   "name": "python3"
  },
  "language_info": {
   "codemirror_mode": {
    "name": "ipython",
    "version": 3
   },
   "file_extension": ".py",
   "mimetype": "text/x-python",
   "name": "python",
   "nbconvert_exporter": "python",
   "pygments_lexer": "ipython3",
   "version": "3.9.5"
  }
 },
 "nbformat": 4,
 "nbformat_minor": 4
}
