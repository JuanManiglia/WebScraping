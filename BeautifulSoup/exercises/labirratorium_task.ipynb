{
 "cells": [
  {
   "cell_type": "markdown",
   "metadata": {},
   "source": [
    "###  Pasos a seguir en el proceso de 'scraping':\n",
    "\n",
    "1. Encuentra la URL que quieres 'escrapear'.\n",
    "2. Inspecciona la página (código fuente).\n",
    "3. Localiza los datos que necesitas obtener.\n",
    "4. Desarrolla tu código en Python.\n",
    "    1. Crea tu sopa\n",
    "    2. Busca los elementos que cotienen los datos y extráelos\n",
    "5. Ejecuta tu código y obten los datos.\n",
    "6. Alamacena los datos en el formato requerido."
   ]
  },
  {
   "cell_type": "code",
   "execution_count": 1,
   "metadata": {},
   "outputs": [],
   "source": [
    "# Importamos librerías\n",
    "import requests\n",
    "from bs4 import BeautifulSoup as bs\n",
    "import pandas as pd\n",
    "import html\n",
    "import numpy as np"
   ]
  },
  {
   "cell_type": "markdown",
   "metadata": {},
   "source": [
    "## Caso 1: Scraping de un catálogo: Labirratorium"
   ]
  },
  {
   "cell_type": "code",
   "execution_count": 2,
   "metadata": {},
   "outputs": [],
   "source": [
    "URL = 'https://www.labirratorium.com/es/67-cervezas-por-estilo?page='"
   ]
  },
  {
   "cell_type": "markdown",
   "metadata": {},
   "source": [
    "Queremos obtener un dataFrame con todas las cervezas del catálogo y sus características descritas. Analizamos la página para ver qué tenemos que hacer para conseguirlo"
   ]
  },
  {
   "cell_type": "code",
   "execution_count": null,
   "metadata": {},
   "outputs": [],
   "source": [
    "# La web tiene 80 páginas con 12 cervezas listadas en cada página."
   ]
  },
  {
   "cell_type": "markdown",
   "metadata": {},
   "source": [
    "Hacemos la consulta (request) y creamos la SOPA inicial:"
   ]
  },
  {
   "cell_type": "code",
   "execution_count": 3,
   "metadata": {},
   "outputs": [],
   "source": [
    "r = requests.get(URL)\n",
    "soup = bs(r.text, 'lxml')"
   ]
  },
  {
   "cell_type": "code",
   "execution_count": 4,
   "metadata": {},
   "outputs": [],
   "source": [
    "# Guardamos lista de cervezas\n",
    "cervezas_grid = soup.find_all(class_=\"product-image\")"
   ]
  },
  {
   "cell_type": "code",
   "execution_count": 6,
   "metadata": {},
   "outputs": [
    {
     "name": "stdout",
     "output_type": "stream",
     "text": [
      "<div class=\"product-image\">\n",
      "<!-- @file modules\\appagebuilder\\views\\templates\\front\\products\\file_tpl -->\n",
      "<ul class=\"product-flags\">\n",
      "</ul>\n",
      "<a class=\"thumbnail product-thumbnail\" href=\"https://www.labirratorium.com/es/inicio/831-arriaca-boris-brew-vikingathor-.html\">\n",
      "<img alt=\"\" class=\"img-fluid\" data-full-size-image-url=\"https://www.labirratorium.com/27941-large_default/arriaca-boris-brew-vikingathor-.jpg\" src=\"https://www.labirratorium.com/27941-home_default/arriaca-boris-brew-vikingathor-.jpg\"/>\n",
      "<span class=\"product-additional\" data-idproduct=\"831\"></span>\n",
      "</a>\n",
      "</div>\n"
     ]
    }
   ],
   "source": [
    "print(cervezas_grid[0])"
   ]
  },
  {
   "cell_type": "code",
   "execution_count": 7,
   "metadata": {},
   "outputs": [
    {
     "data": {
      "text/plain": [
       "['https://www.labirratorium.com/es/inicio/831-arriaca-boris-brew-vikingathor-.html',\n",
       " 'https://www.labirratorium.com/es/cerveza-lambic/284-boon-kriek-2013.html',\n",
       " 'https://www.labirratorium.com/es/cervezas-alemanas/225-stortebeker-schwarz-bier.html',\n",
       " 'https://www.labirratorium.com/es/botella-33cl/199-orval.html',\n",
       " 'https://www.labirratorium.com/es/cervezas-alemanas/184-augustiner-lagerbier-hell.html',\n",
       " 'https://www.labirratorium.com/es/inicio/183-schneider-eisbock.html',\n",
       " 'https://www.labirratorium.com/es/inicio/181-schlenkerla-rauchbier-weizen.html',\n",
       " 'https://www.labirratorium.com/es/inicio/173-samuel-adams-boston-lager.html',\n",
       " 'https://www.labirratorium.com/es/inicio/165-laugar-epa.html',\n",
       " 'https://www.labirratorium.com/es/inicio/82-westmalle-dubbel.html',\n",
       " 'https://www.labirratorium.com/es/inicio/75-duchesse-de-bourgogne.html',\n",
       " 'https://www.labirratorium.com/es/inicio/61-tripel-karmeliet33.html']"
      ]
     },
     "execution_count": 7,
     "metadata": {},
     "output_type": "execute_result"
    }
   ],
   "source": [
    "# necesitamos acceder a cada una de las cervezas del grid:\n",
    "lista_URLs = []\n",
    "for cerveza in cervezas_grid:\n",
    "    URL_cerveza = cerveza.find('a')['href']\n",
    "    lista_URLs.append(URL_cerveza)\n",
    "\n",
    "lista_URLs"
   ]
  },
  {
   "cell_type": "code",
   "execution_count": 8,
   "metadata": {},
   "outputs": [],
   "source": [
    "# Hacemos un nuevo request para la primera cerveza: \n",
    "r = requests.get(lista_URLs[0])\n",
    "\n",
    "# Creamos una sopa específica con la info de cada cerveza\n",
    "soup_cerveza = bs(r.text, \"lxml\")"
   ]
  },
  {
   "cell_type": "code",
   "execution_count": 12,
   "metadata": {},
   "outputs": [
    {
     "name": "stdout",
     "output_type": "stream",
     "text": [
      "SanFrutos Vikingathor Boris Brew\n"
     ]
    }
   ],
   "source": [
    "# Nombre\n",
    "name = soup_cerveza.find(class_=\"h1 product-detail-name\").text\n",
    "print(name)"
   ]
  },
  {
   "cell_type": "code",
   "execution_count": 21,
   "metadata": {},
   "outputs": [
    {
     "name": "stdout",
     "output_type": "stream",
     "text": [
      "3.35\n"
     ]
    }
   ],
   "source": [
    "# Precio\n",
    "price = soup_cerveza.find(class_=\"current-price\").find('span')['content']\n",
    "print(price)"
   ]
  },
  {
   "cell_type": "code",
   "execution_count": 29,
   "metadata": {},
   "outputs": [
    {
     "name": "stdout",
     "output_type": "stream",
     "text": [
      "Indian Dunkel\n"
     ]
    }
   ],
   "source": [
    "# Descripcion corta\n",
    "try: \n",
    "    descr_short = soup_cerveza.find(class_=\"description-short\").find('p').text\n",
    "except:\n",
    "    descr_short = None\n",
    "\n",
    "print(descr_short)"
   ]
  },
  {
   "cell_type": "code",
   "execution_count": 31,
   "metadata": {},
   "outputs": [
    {
     "name": "stdout",
     "output_type": "stream",
     "text": [
      "Cerveza de 8.2% ABV intensa, oscura y muy lupulada. Con aroma intenso a maltas tostadas, caramelo, fruta madura, resina e hierbas aromáticas. Delicioso armargor, dulzor equilibrado y sensación de calidez. Refrescante y lupulada. \n",
      "Una receta de Boris de Mesones.\n",
      "Vikingathor ya ha sido galardonada con anterioridad con las Medallas de Plata cosechadas en el European Beer Star de 2011 y 2012 y la Medalla de Plata en el Asia Beer Cup 2013.\n",
      "\n",
      "\n"
     ]
    }
   ],
   "source": [
    "# Descripción larga\n",
    "descr_full_list = []\n",
    "descr_full_p = soup_cerveza.find(class_=\"product-description\").find_all('p')\n",
    "for sentence in descr_full_p:\n",
    "    descr_full_list.append(sentence.text)\n",
    "\n",
    "descr_full = \"\\n\".join(descr_full_list)\n",
    "\n",
    "print(descr_full)"
   ]
  },
  {
   "cell_type": "code",
   "execution_count": 33,
   "metadata": {},
   "outputs": [
    {
     "name": "stdout",
     "output_type": "stream",
     "text": [
      "https://www.labirratorium.com/27941-large_default/arriaca-boris-brew-vikingathor-.jpg\n"
     ]
    }
   ],
   "source": [
    "# Imagen\n",
    "image = soup_cerveza.find(class_=\"js-qv-product-cover img-fluid\")['src']\n",
    "print(image)"
   ]
  },
  {
   "cell_type": "code",
   "execution_count": 34,
   "metadata": {},
   "outputs": [
    {
     "name": "stdout",
     "output_type": "stream",
     "text": [
      "Cerveza Sanfrutos\n"
     ]
    }
   ],
   "source": [
    " # Brand\n",
    "\n",
    "try:\n",
    "    brand = soup_cerveza.find(class_='img img-thumbnail manufacturer-logo')['alt']\n",
    "except:\n",
    "    brand = None\n",
    "print(brand)"
   ]
  },
  {
   "cell_type": "code",
   "execution_count": 36,
   "metadata": {},
   "outputs": [
    {
     "name": "stdout",
     "output_type": "stream",
     "text": [
      "831\n"
     ]
    }
   ],
   "source": [
    "# Código de barras\n",
    "try:\n",
    "    barcode = soup_cerveza.find(class_='product-reference').find('span').text\n",
    "except:\n",
    "    barcode = None\n",
    "print(barcode)"
   ]
  },
  {
   "cell_type": "code",
   "execution_count": 37,
   "metadata": {},
   "outputs": [
    {
     "name": "stdout",
     "output_type": "stream",
     "text": [
      "Estilo DUNKEL\n",
      "Origen Segovia\n",
      "% Alc. ALTO (6-9%)\n",
      "% Alc. Exacto 8.2\n",
      "Volumen (cl) 33 Cl\n",
      "Tipo Fermentación Lager (Baja Fermentación)\n",
      "IBU 50-75 Amargor alto\n",
      "IBU Exacto 75\n",
      "Color Marrón\n",
      "Envase Botella\n"
     ]
    }
   ],
   "source": [
    "# Features\n",
    "features_dicc = {}\n",
    "\n",
    "features = soup_cerveza.find(class_=\"data-sheet\")\n",
    "\n",
    "try:\n",
    "    features_dt = features.find_all(\"dt\")\n",
    "    features_dd = features.find_all(\"dd\")\n",
    "    for feature, value in zip(features_dt, features_dd):\n",
    "        print(feature.text, value.text)\n",
    "        features_dicc[feature.text] = value.text\n",
    "except:\n",
    "    features_dicc = {}"
   ]
  },
  {
   "cell_type": "code",
   "execution_count": 38,
   "metadata": {},
   "outputs": [],
   "source": [
    "# Creamos un Id único que os permita diferenciar cada entrada en la BBDD\n",
    "counter = 1\n",
    "id_cerv = \"lbt_\" + str(counter)"
   ]
  },
  {
   "cell_type": "markdown",
   "metadata": {},
   "source": [
    "Ya tenemos todos los datos que queremos de la cerveza: Agrupamos todo en una lista:"
   ]
  },
  {
   "cell_type": "code",
   "execution_count": 39,
   "metadata": {},
   "outputs": [
    {
     "data": {
      "text/plain": [
       "[[('id', 'lbt_1'),\n",
       "  ('name', 'SanFrutos Vikingathor Boris Brew'),\n",
       "  ('price', '3.35'),\n",
       "  ('descr_short', 'Indian Dunkel'),\n",
       "  ('descr_full',\n",
       "   'Cerveza de 8.2% ABV intensa, oscura y muy lupulada. Con aroma intenso a maltas tostadas, caramelo, fruta madura, resina e hierbas aromáticas. Delicioso armargor, dulzor equilibrado y sensación de calidez. Refrescante y lupulada.\\xa0\\nUna receta de Boris de Mesones.\\nVikingathor ya ha sido galardonada con anterioridad con las\\xa0Medallas de Plata\\xa0cosechadas en el\\xa0European Beer Star\\xa0de 2011 y 2012 y la\\xa0Medalla de Plata\\xa0en el\\xa0Asia Beer Cup\\xa02013.\\n\\n'),\n",
       "  ('image',\n",
       "   'https://www.labirratorium.com/27941-large_default/arriaca-boris-brew-vikingathor-.jpg'),\n",
       "  ('brand', 'Cerveza Sanfrutos'),\n",
       "  ('barcode', '831'),\n",
       "  ('features',\n",
       "   {'Estilo': 'DUNKEL',\n",
       "    'Origen': 'Segovia',\n",
       "    '% Alc.': 'ALTO (6-9%)',\n",
       "    '% Alc. Exacto': '8.2',\n",
       "    'Volumen (cl)': '33 Cl',\n",
       "    'Tipo Fermentación': 'Lager (Baja Fermentación)',\n",
       "    'IBU': '50-75 Amargor alto',\n",
       "    'IBU Exacto': '75',\n",
       "    'Color': 'Marrón',\n",
       "    'Envase': 'Botella'})]]"
      ]
     },
     "execution_count": 39,
     "metadata": {},
     "output_type": "execute_result"
    }
   ],
   "source": [
    "# Agregamos a una lista\n",
    "lista_cervezas = []\n",
    "\n",
    "lista_cervezas.append([\n",
    "    (\"id\", id_cerv),\n",
    "    (\"name\", name),\n",
    "    ('price', price),\n",
    "    ('descr_short', descr_short),\n",
    "    ('descr_full', descr_full),\n",
    "    ('image', image),\n",
    "    ('brand', brand),\n",
    "    ('barcode', barcode),\n",
    "    ('features', features_dicc)\n",
    "])\n",
    "\n",
    "lista_cervezas"
   ]
  },
  {
   "cell_type": "markdown",
   "metadata": {},
   "source": [
    "### Ya sabemos obtener todos los datos que nos interesan de una cerveza, ahora tenemos que aplicar esta lógica para obtener todas las demás "
   ]
  },
  {
   "cell_type": "markdown",
   "metadata": {},
   "source": [
    "Construir un DataFrame"
   ]
  },
  {
   "cell_type": "code",
   "execution_count": 40,
   "metadata": {},
   "outputs": [
    {
     "name": "stdout",
     "output_type": "stream",
     "text": [
      "Cerveza 1 de 12, pag 1/2\n",
      "Cerveza 2 de 12, pag 1/2\n",
      "Cerveza 3 de 12, pag 1/2\n",
      "Cerveza 4 de 12, pag 1/2\n",
      "Cerveza 5 de 12, pag 1/2\n",
      "Cerveza 6 de 12, pag 1/2\n",
      "Cerveza 7 de 12, pag 1/2\n",
      "Cerveza 8 de 12, pag 1/2\n",
      "Cerveza 9 de 12, pag 1/2\n",
      "Cerveza 10 de 12, pag 1/2\n",
      "Cerveza 11 de 12, pag 1/2\n",
      "Cerveza 12 de 12, pag 1/2\n",
      "Cerveza 1 de 12, pag 2/2\n",
      "Cerveza 2 de 12, pag 2/2\n",
      "Cerveza 3 de 12, pag 2/2\n",
      "Cerveza 4 de 12, pag 2/2\n",
      "Cerveza 5 de 12, pag 2/2\n",
      "Cerveza 6 de 12, pag 2/2\n",
      "Cerveza 7 de 12, pag 2/2\n",
      "Cerveza 8 de 12, pag 2/2\n",
      "Cerveza 9 de 12, pag 2/2\n",
      "Cerveza 10 de 12, pag 2/2\n",
      "Cerveza 11 de 12, pag 2/2\n",
      "Cerveza 12 de 12, pag 2/2\n"
     ]
    }
   ],
   "source": [
    "pages = np.arange(1, 3)\n",
    "count = 1\n",
    "lista_cervezas = []\n",
    "\n",
    "for page in pages:\n",
    "    \n",
    "    URL = 'https://www.labirratorium.com/es/67-cervezas-por-estilo?page=' + str(page)\n",
    "    r = requests.get(URL)\n",
    "    soup = bs(r.text, 'lxml')\n",
    "    cervezas_grid = soup.find_all(class_='product-image')\n",
    "    \n",
    "    count_beer = 1 # para el print de seguimiento de descarga\n",
    "\n",
    "    for cerveza in cervezas_grid:\n",
    "        # Print de seguimiento de descarga:\n",
    "        print('Cerveza {} de {}, pag {}/{}'.format(\n",
    "            count_beer, len(cervezas_grid), page, len(pages)))\n",
    "\n",
    "        URL_cerveza = cerveza.find('a')['href']\n",
    "        r = requests.get(URL_cerveza)\n",
    "        soup_cerveza = bs(r.text, 'lxml')\n",
    "\n",
    "        id_cerv = 'lbt_' + str(count)\n",
    "        \n",
    "        name = soup_cerveza.find(class_='h1 product-detail-name').text   \n",
    "\n",
    "        price = soup_cerveza.find(class_='current-price').find('span')['content']\n",
    "\n",
    "        try:\n",
    "            descr_short = soup_cerveza.find(class_='description-short').find('p').text\n",
    "        except:\n",
    "            descr_short = None\n",
    "\n",
    "        descr_full_list = []\n",
    "        descr_full_p = soup_cerveza.find(class_='product-description').find_all('p')\n",
    "        for sentence in descr_full_p:\n",
    "            descr_full_list.append(sentence.text)\n",
    "            \n",
    "        descr_full = \"\\n\".join(descr_full_list)\n",
    "        \n",
    "        image = soup_cerveza.find(class_='js-qv-product-cover img-fluid')['src']\n",
    "\n",
    "        try:\n",
    "            brand = soup_cerveza.find(class_='img img-thumbnail manufacturer-logo')['alt']\n",
    "        except:\n",
    "            brand = None\n",
    "\n",
    "        try:\n",
    "            barcode = soup_cerveza.find(class_='product-reference').find('span').text\n",
    "        except:\n",
    "            barcode = None\n",
    "\n",
    "        features_dicc = {}\n",
    "        features = soup_cerveza.find(class_ = 'data-sheet')\n",
    "        try:\n",
    "            features_dt = features.find_all('dt')\n",
    "            features_dd = features.find_all('dd')\n",
    "            for feature, value in zip(features_dt, features_dd):\n",
    "                #print(feature.text, value.text)\n",
    "                features_dicc[feature.text] = value.text\n",
    "        except:\n",
    "            features_dicc = {}\n",
    "        \n",
    "\n",
    "        data = {\"id_cerveza\": id_cerv,\n",
    "                \"name\": name,\n",
    "                \"price\": price,\n",
    "                \"descr_short\": descr_short,\n",
    "                \"descr_full\": descr_full,\n",
    "                \"brand\": brand,\n",
    "                \"barcode\": barcode,\n",
    "                \"image\": image,\n",
    "                'features': features_dicc}\n",
    "        \n",
    "        lista_cervezas.append(data)\n",
    "\n",
    "\n",
    "        # Pasamos al siguiente id\n",
    "        count += 1\n",
    "        count_beer += 1\n",
    "\n",
    "\n"
   ]
  },
  {
   "cell_type": "code",
   "execution_count": 41,
   "metadata": {},
   "outputs": [
    {
     "data": {
      "text/html": [
       "<div>\n",
       "<style scoped>\n",
       "    .dataframe tbody tr th:only-of-type {\n",
       "        vertical-align: middle;\n",
       "    }\n",
       "\n",
       "    .dataframe tbody tr th {\n",
       "        vertical-align: top;\n",
       "    }\n",
       "\n",
       "    .dataframe thead th {\n",
       "        text-align: right;\n",
       "    }\n",
       "</style>\n",
       "<table border=\"1\" class=\"dataframe\">\n",
       "  <thead>\n",
       "    <tr style=\"text-align: right;\">\n",
       "      <th></th>\n",
       "      <th>id_cerveza</th>\n",
       "      <th>name</th>\n",
       "      <th>price</th>\n",
       "      <th>descr_short</th>\n",
       "      <th>descr_full</th>\n",
       "      <th>brand</th>\n",
       "      <th>barcode</th>\n",
       "      <th>image</th>\n",
       "      <th>features</th>\n",
       "    </tr>\n",
       "  </thead>\n",
       "  <tbody>\n",
       "    <tr>\n",
       "      <th>0</th>\n",
       "      <td>lbt_1</td>\n",
       "      <td>SanFrutos Vikingathor Boris Brew</td>\n",
       "      <td>3.35</td>\n",
       "      <td>Indian Dunkel</td>\n",
       "      <td>Cerveza de 8.2% ABV intensa, oscura y muy lupu...</td>\n",
       "      <td>Cerveza Sanfrutos</td>\n",
       "      <td>831</td>\n",
       "      <td>https://www.labirratorium.com/27941-large_defa...</td>\n",
       "      <td>{'Estilo': 'DUNKEL', 'Origen': 'Segovia', '% A...</td>\n",
       "    </tr>\n",
       "    <tr>\n",
       "      <th>1</th>\n",
       "      <td>lbt_2</td>\n",
       "      <td>Boon Oude Kriek 37,5cl</td>\n",
       "      <td>7.15</td>\n",
       "      <td>Lambic / Kriek</td>\n",
       "      <td>Cerveza de fermentación espontánea (Lambic) de...</td>\n",
       "      <td>Brouwerij F. Boon</td>\n",
       "      <td>284</td>\n",
       "      <td>https://www.labirratorium.com/19351-large_defa...</td>\n",
       "      <td>{'Estilo': 'KRIEK', 'Origen': 'Bélgica', '% Al...</td>\n",
       "    </tr>\n",
       "    <tr>\n",
       "      <th>2</th>\n",
       "      <td>lbt_3</td>\n",
       "      <td>Störtebeker Schwarz-Bier</td>\n",
       "      <td>2.5</td>\n",
       "      <td>Cerveza negra de baja fermentación</td>\n",
       "      <td>Cerveza negra de baja fermentación de estilo S...</td>\n",
       "      <td>Störtebeker</td>\n",
       "      <td>225</td>\n",
       "      <td>https://www.labirratorium.com/488-large_defaul...</td>\n",
       "      <td>{'Estilo': 'SCHWARZBIER', 'Origen': 'Alemania'...</td>\n",
       "    </tr>\n",
       "    <tr>\n",
       "      <th>3</th>\n",
       "      <td>lbt_4</td>\n",
       "      <td>Orval</td>\n",
       "      <td>2.95</td>\n",
       "      <td>Belgian Pale Ale</td>\n",
       "      <td>Orval es una cerveza tipo ale y es la que prin...</td>\n",
       "      <td>Orval</td>\n",
       "      <td>199</td>\n",
       "      <td>https://www.labirratorium.com/385-large_defaul...</td>\n",
       "      <td>{'Estilo': 'BELGIAN PALE ALE', 'Origen': 'Bélg...</td>\n",
       "    </tr>\n",
       "    <tr>\n",
       "      <th>4</th>\n",
       "      <td>lbt_5</td>\n",
       "      <td>Augustiner Lagerbier Hell</td>\n",
       "      <td>2.5</td>\n",
       "      <td>Lager / Helles</td>\n",
       "      <td>Cerveza de baja fermentación de estilo Munich ...</td>\n",
       "      <td>Augustiner</td>\n",
       "      <td>184</td>\n",
       "      <td>https://www.labirratorium.com/367-large_defaul...</td>\n",
       "      <td>{'Estilo': 'MUNICH HELLES', 'Origen': 'Alemani...</td>\n",
       "    </tr>\n",
       "    <tr>\n",
       "      <th>5</th>\n",
       "      <td>lbt_6</td>\n",
       "      <td>Schneider Aventinus Weizen-Eisbock</td>\n",
       "      <td>2.7</td>\n",
       "      <td>Cerveza de color medio oscuro, aromas alcohóli...</td>\n",
       "      <td>Cerveza de color medio oscuro, aromas alcohóli...</td>\n",
       "      <td>Schneider</td>\n",
       "      <td>183</td>\n",
       "      <td>https://www.labirratorium.com/366-large_defaul...</td>\n",
       "      <td>{'Origen': 'Alemania', '% Alc. Exacto': '12', ...</td>\n",
       "    </tr>\n",
       "    <tr>\n",
       "      <th>6</th>\n",
       "      <td>lbt_7</td>\n",
       "      <td>Aecht Schlenkerla Rauchbier Weizen</td>\n",
       "      <td>2.5</td>\n",
       "      <td></td>\n",
       "      <td>Rauchbier (cerveza ahumada) de trigo con 5.2% ...</td>\n",
       "      <td>Brauerei Heller</td>\n",
       "      <td>181</td>\n",
       "      <td>https://www.labirratorium.com/364-large_defaul...</td>\n",
       "      <td>{'Estilo': 'RAUCHBIER', 'Origen': 'Alemania', ...</td>\n",
       "    </tr>\n",
       "    <tr>\n",
       "      <th>7</th>\n",
       "      <td>lbt_8</td>\n",
       "      <td>Samuel Adams Boston Lager</td>\n",
       "      <td>2.4</td>\n",
       "      <td>Cerveza de baja fermentación (Lager) de color ...</td>\n",
       "      <td>Apariencia: color ambarino cobrizo y espuma pe...</td>\n",
       "      <td>Samuel Adams</td>\n",
       "      <td>173</td>\n",
       "      <td>https://www.labirratorium.com/343-large_defaul...</td>\n",
       "      <td>{'Estilo': 'AMERICAN LAGER', 'Origen': 'EEUU',...</td>\n",
       "    </tr>\n",
       "    <tr>\n",
       "      <th>8</th>\n",
       "      <td>lbt_9</td>\n",
       "      <td>Laugar EPA! Euskadiko Pale Ale</td>\n",
       "      <td>2.65</td>\n",
       "      <td>American Pale Ale</td>\n",
       "      <td>American Pale Ale de 5.2% ABV elaborada con lú...</td>\n",
       "      <td>Laugar</td>\n",
       "      <td>165</td>\n",
       "      <td>https://www.labirratorium.com/11103-large_defa...</td>\n",
       "      <td>{'Estilo': 'APA (AMERICAN PALE ALE)', 'Origen'...</td>\n",
       "    </tr>\n",
       "    <tr>\n",
       "      <th>9</th>\n",
       "      <td>lbt_10</td>\n",
       "      <td>Westmalle Dubbel</td>\n",
       "      <td>2.3</td>\n",
       "      <td>Dubbel</td>\n",
       "      <td>Cerveza Trapista belga con 7% ABV de color mar...</td>\n",
       "      <td>Van Westmalle</td>\n",
       "      <td>82</td>\n",
       "      <td>https://www.labirratorium.com/102-large_defaul...</td>\n",
       "      <td>{'Estilo': 'DUBBEL', 'Origen': 'Bélgica', '% A...</td>\n",
       "    </tr>\n",
       "    <tr>\n",
       "      <th>10</th>\n",
       "      <td>lbt_11</td>\n",
       "      <td>Duchesse De Bourgogne</td>\n",
       "      <td>2.95</td>\n",
       "      <td>Oud Bruin/ Flanders Red Ale</td>\n",
       "      <td>Cerveza belga de estilo Ale Roja de 6.2% ABV d...</td>\n",
       "      <td>Verhaeghe</td>\n",
       "      <td>75</td>\n",
       "      <td>https://www.labirratorium.com/12300-large_defa...</td>\n",
       "      <td>{'Estilo': 'FLANDERS RED ALE\n",
       "OUD BRUIN\n",
       "Oud Bru...</td>\n",
       "    </tr>\n",
       "    <tr>\n",
       "      <th>11</th>\n",
       "      <td>lbt_12</td>\n",
       "      <td>Tripel Karmeliet 33 cl.</td>\n",
       "      <td>2.5</td>\n",
       "      <td>Tripel</td>\n",
       "      <td>Cerveza de estilo Belgian Tripel con 8.4% ABV....</td>\n",
       "      <td>Brouwerij Bosteels (AB InBev)</td>\n",
       "      <td>61</td>\n",
       "      <td>https://www.labirratorium.com/81-large_default...</td>\n",
       "      <td>{'Origen': 'Bélgica', '% Alc.': 'ALTO (6-9%)',...</td>\n",
       "    </tr>\n",
       "    <tr>\n",
       "      <th>12</th>\n",
       "      <td>lbt_13</td>\n",
       "      <td>Weihenstephaner Vitus</td>\n",
       "      <td>2.8</td>\n",
       "      <td>Weizenbock</td>\n",
       "      <td>Cerveza refrescante de trigo fuerte y aromátic...</td>\n",
       "      <td>Weihenstephan</td>\n",
       "      <td>21</td>\n",
       "      <td>https://www.labirratorium.com/43-large_default...</td>\n",
       "      <td>{'Estilo': 'TRIGO ALEMÁN (WEIZENDOPPELBOCK)', ...</td>\n",
       "    </tr>\n",
       "    <tr>\n",
       "      <th>13</th>\n",
       "      <td>lbt_14</td>\n",
       "      <td>Anchor Porter</td>\n",
       "      <td>2.95</td>\n",
       "      <td>Porter</td>\n",
       "      <td>Cerveza negra, cremosa, con aromas a chocolate...</td>\n",
       "      <td>Anchor Brewing Company (Sapporo)</td>\n",
       "      <td>19</td>\n",
       "      <td>https://www.labirratorium.com/29925-large_defa...</td>\n",
       "      <td>{'Estilo': 'AMERICAN PORTER', 'Origen': 'Estad...</td>\n",
       "    </tr>\n",
       "    <tr>\n",
       "      <th>14</th>\n",
       "      <td>lbt_15</td>\n",
       "      <td>Oud Beersel Oude Kriek Vieille 75 cl.</td>\n",
       "      <td>14.95</td>\n",
       "      <td>Lambik / Kriek</td>\n",
       "      <td>Oud Beersel Oude Kriek es una cerveza artesana...</td>\n",
       "      <td>Oud Beersel</td>\n",
       "      <td>287</td>\n",
       "      <td>https://www.labirratorium.com/620-large_defaul...</td>\n",
       "      <td>{'Estilo': 'KRIEK', 'Origen': 'Belgica', '% Al...</td>\n",
       "    </tr>\n",
       "    <tr>\n",
       "      <th>15</th>\n",
       "      <td>lbt_16</td>\n",
       "      <td>Boon Oude Geuze Boon 37,5 cl.</td>\n",
       "      <td>5.15</td>\n",
       "      <td>Lambic / Gueuze</td>\n",
       "      <td>Cerveza de fermentación espontánea de estilo G...</td>\n",
       "      <td>Brouwerij F. Boon</td>\n",
       "      <td>285</td>\n",
       "      <td>https://www.labirratorium.com/618-large_defaul...</td>\n",
       "      <td>{'Estilo': 'GUEUZE', 'Origen': 'Bélgica', '% A...</td>\n",
       "    </tr>\n",
       "    <tr>\n",
       "      <th>16</th>\n",
       "      <td>lbt_17</td>\n",
       "      <td>Weihenstephaner Korbinian</td>\n",
       "      <td>2.95</td>\n",
       "      <td>Doppelbock</td>\n",
       "      <td>Cerveza alemanda de estilo Doppelbock de 7.4% ...</td>\n",
       "      <td>Weihenstephan</td>\n",
       "      <td>182</td>\n",
       "      <td>https://www.labirratorium.com/365-large_defaul...</td>\n",
       "      <td>{'Estilo': 'DOPPELBOCK', 'Origen': 'Alemania',...</td>\n",
       "    </tr>\n",
       "    <tr>\n",
       "      <th>17</th>\n",
       "      <td>lbt_18</td>\n",
       "      <td>Aecht Schlenkerla Rauchbier Märzen</td>\n",
       "      <td>2.4</td>\n",
       "      <td>Rauchbier / Mazen</td>\n",
       "      <td>Rauchbier (cerveza ahumada) de estilo Marzen d...</td>\n",
       "      <td>Brauerei Heller</td>\n",
       "      <td>180</td>\n",
       "      <td>https://www.labirratorium.com/12653-large_defa...</td>\n",
       "      <td>{'Estilo': 'RAUCHBIER', 'Origen': 'Alemania', ...</td>\n",
       "    </tr>\n",
       "    <tr>\n",
       "      <th>18</th>\n",
       "      <td>lbt_19</td>\n",
       "      <td>Samuel Smith Imperial Stout</td>\n",
       "      <td>3.45</td>\n",
       "      <td>Imperial Stout</td>\n",
       "      <td>Cerveza de color marrón muy oscuro, muy cremos...</td>\n",
       "      <td>Samuel Smith</td>\n",
       "      <td>109</td>\n",
       "      <td>https://www.labirratorium.com/131-large_defaul...</td>\n",
       "      <td>{'Estilo': 'IMPERIAL STOUT', 'Origen': 'Inglat...</td>\n",
       "    </tr>\n",
       "    <tr>\n",
       "      <th>19</th>\n",
       "      <td>lbt_20</td>\n",
       "      <td>Westmalle Tripel</td>\n",
       "      <td>2.75</td>\n",
       "      <td>Tripel</td>\n",
       "      <td>Cerveza Trapista belga con 9% ABV de color oro...</td>\n",
       "      <td>Van Westmalle</td>\n",
       "      <td>83</td>\n",
       "      <td>https://www.labirratorium.com/103-large_defaul...</td>\n",
       "      <td>{'Estilo': 'TRIPEL', 'Origen': 'Bélgica', '% A...</td>\n",
       "    </tr>\n",
       "    <tr>\n",
       "      <th>20</th>\n",
       "      <td>lbt_21</td>\n",
       "      <td>Chimay Azul Grande Réserve 75cl</td>\n",
       "      <td>7.55</td>\n",
       "      <td>Belgian Strong Ale</td>\n",
       "      <td>Cerveza fuerte de abadía, de color oscuro, Afr...</td>\n",
       "      <td>Chimay</td>\n",
       "      <td>44</td>\n",
       "      <td>https://www.labirratorium.com/67-large_default...</td>\n",
       "      <td>{'Estilo': 'BELGIAN DARK STRONG ALE', 'Origen'...</td>\n",
       "    </tr>\n",
       "    <tr>\n",
       "      <th>21</th>\n",
       "      <td>lbt_22</td>\n",
       "      <td>Lindemans Framboise 25 cl.</td>\n",
       "      <td>2.4</td>\n",
       "      <td>Lambic / Framboise</td>\n",
       "      <td>Cerveza de fermentación espontánea y con framb...</td>\n",
       "      <td>Lindemans</td>\n",
       "      <td>39</td>\n",
       "      <td>https://www.labirratorium.com/62-large_default...</td>\n",
       "      <td>{'Estilo': 'FRAMBOISE', 'Origen': 'Bélgica', '...</td>\n",
       "    </tr>\n",
       "    <tr>\n",
       "      <th>22</th>\n",
       "      <td>lbt_23</td>\n",
       "      <td>Achel Brune</td>\n",
       "      <td>2.75</td>\n",
       "      <td>Belgian Dubbel</td>\n",
       "      <td>Ale Trapense.De un color caoba muy bello y una...</td>\n",
       "      <td>Brouwerij der Trappistenabdij De Achelse Kluis...</td>\n",
       "      <td>13</td>\n",
       "      <td>https://www.labirratorium.com/12481-large_defa...</td>\n",
       "      <td>{'Estilo': 'DUBBEL', 'Origen': 'Bélgica', '% A...</td>\n",
       "    </tr>\n",
       "    <tr>\n",
       "      <th>23</th>\n",
       "      <td>lbt_24</td>\n",
       "      <td>Ayinger Celebrator</td>\n",
       "      <td>2.25</td>\n",
       "      <td>Doppelbock</td>\n",
       "      <td>Cerveza Lager tostada de 6.7% ABV. De color ca...</td>\n",
       "      <td>Ayinger</td>\n",
       "      <td>584</td>\n",
       "      <td>https://www.labirratorium.com/899-large_defaul...</td>\n",
       "      <td>{'Estilo': 'DOPPELBOCK', 'Origen': 'Alemania',...</td>\n",
       "    </tr>\n",
       "  </tbody>\n",
       "</table>\n",
       "</div>"
      ],
      "text/plain": [
       "   id_cerveza                                   name  price  \\\n",
       "0       lbt_1       SanFrutos Vikingathor Boris Brew   3.35   \n",
       "1       lbt_2                 Boon Oude Kriek 37,5cl   7.15   \n",
       "2       lbt_3               Störtebeker Schwarz-Bier    2.5   \n",
       "3       lbt_4                                  Orval   2.95   \n",
       "4       lbt_5              Augustiner Lagerbier Hell    2.5   \n",
       "5       lbt_6     Schneider Aventinus Weizen-Eisbock    2.7   \n",
       "6       lbt_7     Aecht Schlenkerla Rauchbier Weizen    2.5   \n",
       "7       lbt_8              Samuel Adams Boston Lager    2.4   \n",
       "8       lbt_9         Laugar EPA! Euskadiko Pale Ale   2.65   \n",
       "9      lbt_10                       Westmalle Dubbel    2.3   \n",
       "10     lbt_11                  Duchesse De Bourgogne   2.95   \n",
       "11     lbt_12                Tripel Karmeliet 33 cl.    2.5   \n",
       "12     lbt_13                  Weihenstephaner Vitus    2.8   \n",
       "13     lbt_14                          Anchor Porter   2.95   \n",
       "14     lbt_15  Oud Beersel Oude Kriek Vieille 75 cl.  14.95   \n",
       "15     lbt_16          Boon Oude Geuze Boon 37,5 cl.   5.15   \n",
       "16     lbt_17              Weihenstephaner Korbinian   2.95   \n",
       "17     lbt_18     Aecht Schlenkerla Rauchbier Märzen    2.4   \n",
       "18     lbt_19            Samuel Smith Imperial Stout   3.45   \n",
       "19     lbt_20                       Westmalle Tripel   2.75   \n",
       "20     lbt_21        Chimay Azul Grande Réserve 75cl   7.55   \n",
       "21     lbt_22             Lindemans Framboise 25 cl.    2.4   \n",
       "22     lbt_23                            Achel Brune   2.75   \n",
       "23     lbt_24                     Ayinger Celebrator   2.25   \n",
       "\n",
       "                                          descr_short  \\\n",
       "0                                       Indian Dunkel   \n",
       "1                                      Lambic / Kriek   \n",
       "2                 Cerveza negra de baja fermentación    \n",
       "3                                    Belgian Pale Ale   \n",
       "4                                      Lager / Helles   \n",
       "5   Cerveza de color medio oscuro, aromas alcohóli...   \n",
       "6                                                       \n",
       "7   Cerveza de baja fermentación (Lager) de color ...   \n",
       "8                                   American Pale Ale   \n",
       "9                                              Dubbel   \n",
       "10                        Oud Bruin/ Flanders Red Ale   \n",
       "11                                             Tripel   \n",
       "12                                         Weizenbock   \n",
       "13                                             Porter   \n",
       "14                                     Lambik / Kriek   \n",
       "15                                    Lambic / Gueuze   \n",
       "16                                         Doppelbock   \n",
       "17                                  Rauchbier / Mazen   \n",
       "18                                     Imperial Stout   \n",
       "19                                             Tripel   \n",
       "20                                 Belgian Strong Ale   \n",
       "21                                 Lambic / Framboise   \n",
       "22                                     Belgian Dubbel   \n",
       "23                                         Doppelbock   \n",
       "\n",
       "                                           descr_full  \\\n",
       "0   Cerveza de 8.2% ABV intensa, oscura y muy lupu...   \n",
       "1   Cerveza de fermentación espontánea (Lambic) de...   \n",
       "2   Cerveza negra de baja fermentación de estilo S...   \n",
       "3   Orval es una cerveza tipo ale y es la que prin...   \n",
       "4   Cerveza de baja fermentación de estilo Munich ...   \n",
       "5   Cerveza de color medio oscuro, aromas alcohóli...   \n",
       "6   Rauchbier (cerveza ahumada) de trigo con 5.2% ...   \n",
       "7   Apariencia: color ambarino cobrizo y espuma pe...   \n",
       "8   American Pale Ale de 5.2% ABV elaborada con lú...   \n",
       "9   Cerveza Trapista belga con 7% ABV de color mar...   \n",
       "10  Cerveza belga de estilo Ale Roja de 6.2% ABV d...   \n",
       "11  Cerveza de estilo Belgian Tripel con 8.4% ABV....   \n",
       "12  Cerveza refrescante de trigo fuerte y aromátic...   \n",
       "13  Cerveza negra, cremosa, con aromas a chocolate...   \n",
       "14  Oud Beersel Oude Kriek es una cerveza artesana...   \n",
       "15  Cerveza de fermentación espontánea de estilo G...   \n",
       "16  Cerveza alemanda de estilo Doppelbock de 7.4% ...   \n",
       "17  Rauchbier (cerveza ahumada) de estilo Marzen d...   \n",
       "18  Cerveza de color marrón muy oscuro, muy cremos...   \n",
       "19  Cerveza Trapista belga con 9% ABV de color oro...   \n",
       "20  Cerveza fuerte de abadía, de color oscuro, Afr...   \n",
       "21  Cerveza de fermentación espontánea y con framb...   \n",
       "22  Ale Trapense.De un color caoba muy bello y una...   \n",
       "23  Cerveza Lager tostada de 6.7% ABV. De color ca...   \n",
       "\n",
       "                                                brand barcode  \\\n",
       "0                                   Cerveza Sanfrutos     831   \n",
       "1                                   Brouwerij F. Boon     284   \n",
       "2                                         Störtebeker     225   \n",
       "3                                               Orval     199   \n",
       "4                                          Augustiner     184   \n",
       "5                                           Schneider     183   \n",
       "6                                     Brauerei Heller     181   \n",
       "7                                        Samuel Adams     173   \n",
       "8                                              Laugar     165   \n",
       "9                                       Van Westmalle      82   \n",
       "10                                          Verhaeghe      75   \n",
       "11                      Brouwerij Bosteels (AB InBev)      61   \n",
       "12                                      Weihenstephan      21   \n",
       "13                   Anchor Brewing Company (Sapporo)      19   \n",
       "14                                        Oud Beersel     287   \n",
       "15                                  Brouwerij F. Boon     285   \n",
       "16                                      Weihenstephan     182   \n",
       "17                                    Brauerei Heller     180   \n",
       "18                                       Samuel Smith     109   \n",
       "19                                      Van Westmalle      83   \n",
       "20                                             Chimay      44   \n",
       "21                                          Lindemans      39   \n",
       "22  Brouwerij der Trappistenabdij De Achelse Kluis...      13   \n",
       "23                                            Ayinger     584   \n",
       "\n",
       "                                                image  \\\n",
       "0   https://www.labirratorium.com/27941-large_defa...   \n",
       "1   https://www.labirratorium.com/19351-large_defa...   \n",
       "2   https://www.labirratorium.com/488-large_defaul...   \n",
       "3   https://www.labirratorium.com/385-large_defaul...   \n",
       "4   https://www.labirratorium.com/367-large_defaul...   \n",
       "5   https://www.labirratorium.com/366-large_defaul...   \n",
       "6   https://www.labirratorium.com/364-large_defaul...   \n",
       "7   https://www.labirratorium.com/343-large_defaul...   \n",
       "8   https://www.labirratorium.com/11103-large_defa...   \n",
       "9   https://www.labirratorium.com/102-large_defaul...   \n",
       "10  https://www.labirratorium.com/12300-large_defa...   \n",
       "11  https://www.labirratorium.com/81-large_default...   \n",
       "12  https://www.labirratorium.com/43-large_default...   \n",
       "13  https://www.labirratorium.com/29925-large_defa...   \n",
       "14  https://www.labirratorium.com/620-large_defaul...   \n",
       "15  https://www.labirratorium.com/618-large_defaul...   \n",
       "16  https://www.labirratorium.com/365-large_defaul...   \n",
       "17  https://www.labirratorium.com/12653-large_defa...   \n",
       "18  https://www.labirratorium.com/131-large_defaul...   \n",
       "19  https://www.labirratorium.com/103-large_defaul...   \n",
       "20  https://www.labirratorium.com/67-large_default...   \n",
       "21  https://www.labirratorium.com/62-large_default...   \n",
       "22  https://www.labirratorium.com/12481-large_defa...   \n",
       "23  https://www.labirratorium.com/899-large_defaul...   \n",
       "\n",
       "                                             features  \n",
       "0   {'Estilo': 'DUNKEL', 'Origen': 'Segovia', '% A...  \n",
       "1   {'Estilo': 'KRIEK', 'Origen': 'Bélgica', '% Al...  \n",
       "2   {'Estilo': 'SCHWARZBIER', 'Origen': 'Alemania'...  \n",
       "3   {'Estilo': 'BELGIAN PALE ALE', 'Origen': 'Bélg...  \n",
       "4   {'Estilo': 'MUNICH HELLES', 'Origen': 'Alemani...  \n",
       "5   {'Origen': 'Alemania', '% Alc. Exacto': '12', ...  \n",
       "6   {'Estilo': 'RAUCHBIER', 'Origen': 'Alemania', ...  \n",
       "7   {'Estilo': 'AMERICAN LAGER', 'Origen': 'EEUU',...  \n",
       "8   {'Estilo': 'APA (AMERICAN PALE ALE)', 'Origen'...  \n",
       "9   {'Estilo': 'DUBBEL', 'Origen': 'Bélgica', '% A...  \n",
       "10  {'Estilo': 'FLANDERS RED ALE\n",
       "OUD BRUIN\n",
       "Oud Bru...  \n",
       "11  {'Origen': 'Bélgica', '% Alc.': 'ALTO (6-9%)',...  \n",
       "12  {'Estilo': 'TRIGO ALEMÁN (WEIZENDOPPELBOCK)', ...  \n",
       "13  {'Estilo': 'AMERICAN PORTER', 'Origen': 'Estad...  \n",
       "14  {'Estilo': 'KRIEK', 'Origen': 'Belgica', '% Al...  \n",
       "15  {'Estilo': 'GUEUZE', 'Origen': 'Bélgica', '% A...  \n",
       "16  {'Estilo': 'DOPPELBOCK', 'Origen': 'Alemania',...  \n",
       "17  {'Estilo': 'RAUCHBIER', 'Origen': 'Alemania', ...  \n",
       "18  {'Estilo': 'IMPERIAL STOUT', 'Origen': 'Inglat...  \n",
       "19  {'Estilo': 'TRIPEL', 'Origen': 'Bélgica', '% A...  \n",
       "20  {'Estilo': 'BELGIAN DARK STRONG ALE', 'Origen'...  \n",
       "21  {'Estilo': 'FRAMBOISE', 'Origen': 'Bélgica', '...  \n",
       "22  {'Estilo': 'DUBBEL', 'Origen': 'Bélgica', '% A...  \n",
       "23  {'Estilo': 'DOPPELBOCK', 'Origen': 'Alemania',...  "
      ]
     },
     "execution_count": 41,
     "metadata": {},
     "output_type": "execute_result"
    }
   ],
   "source": [
    "df = pd.DataFrame(lista_cervezas)\n",
    "df"
   ]
  }
 ],
 "metadata": {
  "hide_input": false,
  "interpreter": {
   "hash": "7c77fdb427e7cbc9bc1367dd530fc2b36aacdbbde1ac83c85833b10dfa8b831c"
  },
  "kernelspec": {
   "display_name": "Python 3.7.4 64-bit",
   "name": "python3"
  },
  "language_info": {
   "codemirror_mode": {
    "name": "ipython",
    "version": 3
   },
   "file_extension": ".py",
   "mimetype": "text/x-python",
   "name": "python",
   "nbconvert_exporter": "python",
   "pygments_lexer": "ipython3",
   "version": "3.9.5"
  },
  "metadata": {
   "interpreter": {
    "hash": "5c4d2f1fdcd3716c7a5eea90ad07be30193490dd4e63617705244f5fd89ea793"
   }
  },
  "varInspector": {
   "cols": {
    "lenName": 16,
    "lenType": 16,
    "lenVar": 40
   },
   "kernels_config": {
    "python": {
     "delete_cmd_postfix": "",
     "delete_cmd_prefix": "del ",
     "library": "var_list.py",
     "varRefreshCmd": "print(var_dic_list())"
    },
    "r": {
     "delete_cmd_postfix": ") ",
     "delete_cmd_prefix": "rm(",
     "library": "var_list.r",
     "varRefreshCmd": "cat(var_dic_list()) "
    }
   },
   "types_to_exclude": [
    "module",
    "function",
    "builtin_function_or_method",
    "instance",
    "_Feature"
   ],
   "window_display": false
  }
 },
 "nbformat": 4,
 "nbformat_minor": 2
}
